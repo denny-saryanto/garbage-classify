{
  "nbformat": 4,
  "nbformat_minor": 0,
  "metadata": {
    "colab": {
      "name": "ConvNetGarbageClassify",
      "provenance": [],
      "authorship_tag": "ABX9TyMjnKawN1uOkbkgwujAMRgH"
    },
    "kernelspec": {
      "name": "python3",
      "display_name": "Python 3"
    },
    "accelerator": "GPU"
  },
  "cells": [
    {
      "cell_type": "code",
      "metadata": {
        "colab": {
          "base_uri": "https://localhost:8080/"
        },
        "id": "LfOGHJSJpLoF",
        "outputId": "3d4534e6-909f-4794-b7d7-a41e07ce1a51"
      },
      "source": [
        "import tensorflow as tf\n",
        "from tensorflow.keras.optimizers import RMSprop\n",
        "from tensorflow.keras.preprocessing.image import ImageDataGenerator\n",
        "from sklearn.model_selection import train_test_split\n",
        "from tensorflow.keras.preprocessing import image_dataset_from_directory\n",
        "from keras.preprocessing import image\n",
        "import zipfile, os\n",
        "\n",
        "# Imports\n",
        "import warnings\n",
        "import matplotlib.pyplot as plt\n",
        "from matplotlib import gridspec\n",
        "\n",
        "import numpy as np\n",
        "%load_ext tensorboard\n",
        "import datetime"
      ],
      "execution_count": null,
      "outputs": [
        {
          "output_type": "stream",
          "text": [
            "The tensorboard extension is already loaded. To reload it, use:\n",
            "  %reload_ext tensorboard\n"
          ],
          "name": "stdout"
        }
      ]
    },
    {
      "cell_type": "markdown",
      "metadata": {
        "id": "lsfIyWUp4hTx"
      },
      "source": [
        "# **Load Data and Labels**"
      ]
    },
    {
      "cell_type": "code",
      "metadata": {
        "id": "DIsv7yRFsG68"
      },
      "source": [
        "base_path = '/content/gb_file/gb_ds'"
      ],
      "execution_count": null,
      "outputs": []
    },
    {
      "cell_type": "code",
      "metadata": {
        "colab": {
          "base_uri": "https://localhost:8080/"
        },
        "id": "Mqby0nza9ii8",
        "outputId": "89edb599-7b53-4426-f176-9e4186698b3a"
      },
      "source": [
        "train_datagen = ImageDataGenerator(\n",
        "    rescale=1./255,\n",
        "    shear_range=0.1,\n",
        "    zoom_range=0.1,\n",
        "    width_shift_range=0.1,\n",
        "    height_shift_range=0.1,\n",
        "    horizontal_flip=True,\n",
        "    vertical_flip=True,\n",
        "    validation_split=0.1\n",
        ")\n",
        "\n",
        "test_datagen = ImageDataGenerator(\n",
        "    rescale=1./255,\n",
        "    validation_split=0.1\n",
        ")\n",
        "\n",
        "train_generator = train_datagen.flow_from_directory(\n",
        "    base_path,\n",
        "    target_size=(224, 224),\n",
        "    batch_size=16,\n",
        "    class_mode='categorical',\n",
        "    subset='training',\n",
        "    seed=0\n",
        ")\n",
        "\n",
        "validation_generator = test_datagen.flow_from_directory(\n",
        "    base_path,\n",
        "    target_size=(224, 224),\n",
        "    batch_size=16,\n",
        "    class_mode='categorical',\n",
        "    subset='validation',\n",
        "    seed=0\n",
        ")"
      ],
      "execution_count": null,
      "outputs": [
        {
          "output_type": "stream",
          "text": [
            "Found 2276 images belonging to 6 classes.\n",
            "Found 251 images belonging to 6 classes.\n"
          ],
          "name": "stdout"
        }
      ]
    },
    {
      "cell_type": "code",
      "metadata": {
        "colab": {
          "base_uri": "https://localhost:8080/"
        },
        "id": "WFd-MBHW9-7X",
        "outputId": "bcbf1a2e-b5a5-43d7-8981-d05515edc484"
      },
      "source": [
        "print (train_generator.class_indices)\n",
        "\n",
        "labels = '\\n'.join(sorted(train_generator.class_indices.keys()))\n",
        "\n",
        "with open('labels.txt', 'w') as f:\n",
        "  f.write(labels)"
      ],
      "execution_count": null,
      "outputs": [
        {
          "output_type": "stream",
          "text": [
            "{'cardboard': 0, 'glass': 1, 'metal': 2, 'paper': 3, 'plastic': 4, 'trash': 5}\n"
          ],
          "name": "stdout"
        }
      ]
    },
    {
      "cell_type": "code",
      "metadata": {
        "id": "OUeHBCG7-GyL"
      },
      "source": [
        "path = 'labels.txt'\n",
        "label = np.array(open(path).read().splitlines())"
      ],
      "execution_count": null,
      "outputs": []
    },
    {
      "cell_type": "markdown",
      "metadata": {
        "id": "dtkcvm2gShr6"
      },
      "source": [
        "# **Load Xception Model and Design the Neural Network**"
      ]
    },
    {
      "cell_type": "code",
      "metadata": {
        "colab": {
          "base_uri": "https://localhost:8080/"
        },
        "id": "Bv_lGSMg-L2T",
        "outputId": "b15b1dab-fc00-4c36-b838-fea48fa4be88"
      },
      "source": [
        "IMG_SHAPE = (224,224,3)\n",
        "\n",
        "base_model = tf.keras.applications.Xception(input_shape=IMG_SHAPE, include_top=False, weights='imagenet')"
      ],
      "execution_count": null,
      "outputs": [
        {
          "output_type": "stream",
          "text": [
            "Downloading data from https://storage.googleapis.com/tensorflow/keras-applications/xception/xception_weights_tf_dim_ordering_tf_kernels_notop.h5\n",
            "83689472/83683744 [==============================] - 0s 0us/step\n"
          ],
          "name": "stdout"
        }
      ]
    },
    {
      "cell_type": "code",
      "metadata": {
        "id": "Qmzb4WTj-wrA"
      },
      "source": [
        "base_model.trainable = False"
      ],
      "execution_count": null,
      "outputs": []
    },
    {
      "cell_type": "code",
      "metadata": {
        "id": "zGCqtfMOv2zI"
      },
      "source": [
        "import tensorflow.keras as keras\n",
        "import tensorflow.keras.layers as layers\n",
        "from tensorflow.keras.models import Sequential\n",
        "from tensorflow.keras.layers import Dense, Conv2D, Flatten, Dropout, MaxPooling2D\n",
        "from tensorflow.keras.preprocessing.image import ImageDataGenerator\n",
        "\n",
        "model = Sequential([\n",
        "    base_model,\n",
        "    Conv2D(128, 3, activation='relu'),\n",
        "    Dropout(0.2),\n",
        "    layers.GlobalAveragePooling2D(),\n",
        "    Dense(6, activation='softmax'),\n",
        "])"
      ],
      "execution_count": null,
      "outputs": []
    },
    {
      "cell_type": "markdown",
      "metadata": {
        "id": "tYVY6ZymSnrA"
      },
      "source": [
        "# **Train The Model**"
      ]
    },
    {
      "cell_type": "code",
      "metadata": {
        "colab": {
          "base_uri": "https://localhost:8080/"
        },
        "id": "4qv2gS_i6AAv",
        "outputId": "7cff071a-5606-4b09-90ce-91eeeb393676"
      },
      "source": [
        "model.compile(optimizer=tf.keras.optimizers.RMSprop(lr=0.0001),\n",
        "              loss='categorical_crossentropy', \n",
        "              metrics=['accuracy'])\n",
        "              \n",
        "model.summary()\n",
        "\n",
        "batch_size = 32\n",
        "epochs = 50\n",
        "steps_per_epoch = train_generator.n // batch_size\n",
        "validation_steps = validation_generator.n // batch_size\n",
        "\n",
        "class callbackAcc(tf.keras.callbacks.Callback):\n",
        "  def on_epoch_end(self, epoch, logs={}):\n",
        "    if(logs.get('accuracy')>0.998):\n",
        "      print('\\nReached 99.8% accuracy so cancelling training!')\n",
        "      self.model.stop_training = True\n",
        "\n",
        "callbackAcc = callbackAcc()\n",
        "\n",
        "logdir = os.path.join('logs', datetime.datetime.now().strftime(\"%Y%m%d-%H%M%S\"))\n",
        "tf_callback = tf.keras.callbacks.TensorBoard(logdir, histogram_freq=1)\n",
        "\n",
        "history = model.fit(train_generator, \n",
        "                    steps_per_epoch = steps_per_epoch,\n",
        "                    epochs=epochs, \n",
        "                    workers=4,\n",
        "                    validation_data=validation_generator, \n",
        "                    validation_steps=validation_steps,\n",
        "                    )"
      ],
      "execution_count": null,
      "outputs": [
        {
          "output_type": "stream",
          "text": [
            "Model: \"sequential_37\"\n",
            "_________________________________________________________________\n",
            "Layer (type)                 Output Shape              Param #   \n",
            "=================================================================\n",
            "xception (Functional)        (None, 7, 7, 2048)        20861480  \n",
            "_________________________________________________________________\n",
            "conv2d_28 (Conv2D)           (None, 5, 5, 128)         2359424   \n",
            "_________________________________________________________________\n",
            "dropout_32 (Dropout)         (None, 5, 5, 128)         0         \n",
            "_________________________________________________________________\n",
            "global_average_pooling2d_27  (None, 128)               0         \n",
            "_________________________________________________________________\n",
            "dense_46 (Dense)             (None, 6)                 774       \n",
            "=================================================================\n",
            "Total params: 23,221,678\n",
            "Trainable params: 2,360,198\n",
            "Non-trainable params: 20,861,480\n",
            "_________________________________________________________________\n",
            "Epoch 1/50\n",
            "71/71 [==============================] - 17s 240ms/step - loss: 0.8328 - accuracy: 0.6928 - val_loss: 0.7192 - val_accuracy: 0.7679\n",
            "Epoch 2/50\n",
            "71/71 [==============================] - 16s 220ms/step - loss: 0.5893 - accuracy: 0.7829 - val_loss: 0.5639 - val_accuracy: 0.7946\n",
            "Epoch 3/50\n",
            "71/71 [==============================] - 15s 218ms/step - loss: 0.5290 - accuracy: 0.8169 - val_loss: 0.4945 - val_accuracy: 0.8036\n",
            "Epoch 4/50\n",
            "71/71 [==============================] - 16s 219ms/step - loss: 0.4763 - accuracy: 0.8301 - val_loss: 0.5173 - val_accuracy: 0.8036\n",
            "Epoch 5/50\n",
            "71/71 [==============================] - 16s 219ms/step - loss: 0.4243 - accuracy: 0.8443 - val_loss: 0.6784 - val_accuracy: 0.7232\n",
            "Epoch 6/50\n",
            "71/71 [==============================] - 16s 219ms/step - loss: 0.3523 - accuracy: 0.8706 - val_loss: 0.4330 - val_accuracy: 0.8571\n",
            "Epoch 7/50\n",
            "71/71 [==============================] - 16s 219ms/step - loss: 0.3321 - accuracy: 0.8870 - val_loss: 0.3710 - val_accuracy: 0.8482\n",
            "Epoch 8/50\n",
            "71/71 [==============================] - 16s 220ms/step - loss: 0.3395 - accuracy: 0.8763 - val_loss: 0.5132 - val_accuracy: 0.8125\n",
            "Epoch 9/50\n",
            "71/71 [==============================] - 15s 217ms/step - loss: 0.3089 - accuracy: 0.8932 - val_loss: 0.4547 - val_accuracy: 0.8393\n",
            "Epoch 10/50\n",
            "71/71 [==============================] - 15s 217ms/step - loss: 0.2577 - accuracy: 0.9012 - val_loss: 0.4184 - val_accuracy: 0.8929\n",
            "Epoch 11/50\n",
            "71/71 [==============================] - 16s 219ms/step - loss: 0.2253 - accuracy: 0.9278 - val_loss: 0.4282 - val_accuracy: 0.8750\n",
            "Epoch 12/50\n",
            "71/71 [==============================] - 16s 221ms/step - loss: 0.2466 - accuracy: 0.9155 - val_loss: 0.5235 - val_accuracy: 0.8304\n",
            "Epoch 13/50\n",
            "71/71 [==============================] - 16s 221ms/step - loss: 0.2170 - accuracy: 0.9226 - val_loss: 0.5894 - val_accuracy: 0.8571\n",
            "Epoch 14/50\n",
            "71/71 [==============================] - 15s 218ms/step - loss: 0.2269 - accuracy: 0.9155 - val_loss: 0.4063 - val_accuracy: 0.8839\n",
            "Epoch 15/50\n",
            "71/71 [==============================] - 16s 219ms/step - loss: 0.2415 - accuracy: 0.9039 - val_loss: 0.4667 - val_accuracy: 0.8839\n",
            "Epoch 16/50\n",
            "71/71 [==============================] - 16s 220ms/step - loss: 0.2141 - accuracy: 0.9269 - val_loss: 0.4627 - val_accuracy: 0.8929\n",
            "Epoch 17/50\n",
            "71/71 [==============================] - 16s 219ms/step - loss: 0.2130 - accuracy: 0.9235 - val_loss: 0.3703 - val_accuracy: 0.8571\n",
            "Epoch 18/50\n",
            "71/71 [==============================] - 15s 217ms/step - loss: 0.1619 - accuracy: 0.9351 - val_loss: 0.7039 - val_accuracy: 0.8393\n",
            "Epoch 19/50\n",
            "71/71 [==============================] - 16s 224ms/step - loss: 0.1806 - accuracy: 0.9296 - val_loss: 0.7025 - val_accuracy: 0.8125\n",
            "Epoch 20/50\n",
            "71/71 [==============================] - 16s 220ms/step - loss: 0.1753 - accuracy: 0.9368 - val_loss: 0.3705 - val_accuracy: 0.8661\n",
            "Epoch 21/50\n",
            "71/71 [==============================] - 16s 220ms/step - loss: 0.1817 - accuracy: 0.9331 - val_loss: 0.4548 - val_accuracy: 0.8571\n",
            "Epoch 22/50\n",
            "71/71 [==============================] - 15s 218ms/step - loss: 0.1514 - accuracy: 0.9502 - val_loss: 0.4566 - val_accuracy: 0.8482\n",
            "Epoch 23/50\n",
            "71/71 [==============================] - 16s 223ms/step - loss: 0.1312 - accuracy: 0.9577 - val_loss: 0.5895 - val_accuracy: 0.8125\n",
            "Epoch 24/50\n",
            "71/71 [==============================] - 16s 219ms/step - loss: 0.1292 - accuracy: 0.9546 - val_loss: 0.5377 - val_accuracy: 0.8750\n",
            "Epoch 25/50\n",
            "71/71 [==============================] - 16s 220ms/step - loss: 0.1256 - accuracy: 0.9502 - val_loss: 0.4372 - val_accuracy: 0.9286\n",
            "Epoch 26/50\n",
            "71/71 [==============================] - 16s 220ms/step - loss: 0.1394 - accuracy: 0.9555 - val_loss: 0.4525 - val_accuracy: 0.8661\n",
            "Epoch 27/50\n",
            "71/71 [==============================] - 16s 220ms/step - loss: 0.1220 - accuracy: 0.9586 - val_loss: 0.5962 - val_accuracy: 0.8393\n",
            "Epoch 28/50\n",
            "71/71 [==============================] - 16s 222ms/step - loss: 0.1321 - accuracy: 0.9604 - val_loss: 0.4496 - val_accuracy: 0.9107\n",
            "Epoch 29/50\n",
            "71/71 [==============================] - 15s 216ms/step - loss: 0.1081 - accuracy: 0.9644 - val_loss: 0.4982 - val_accuracy: 0.8214\n",
            "Epoch 30/50\n",
            "71/71 [==============================] - 16s 221ms/step - loss: 0.0907 - accuracy: 0.9692 - val_loss: 0.3441 - val_accuracy: 0.9107\n",
            "Epoch 31/50\n",
            "71/71 [==============================] - 15s 215ms/step - loss: 0.1398 - accuracy: 0.9511 - val_loss: 0.4299 - val_accuracy: 0.8661\n",
            "Epoch 32/50\n",
            "71/71 [==============================] - 15s 216ms/step - loss: 0.1175 - accuracy: 0.9648 - val_loss: 0.4468 - val_accuracy: 0.8661\n",
            "Epoch 33/50\n",
            "71/71 [==============================] - 15s 217ms/step - loss: 0.1090 - accuracy: 0.9595 - val_loss: 0.7349 - val_accuracy: 0.8661\n",
            "Epoch 34/50\n",
            "71/71 [==============================] - 15s 214ms/step - loss: 0.0934 - accuracy: 0.9680 - val_loss: 0.5532 - val_accuracy: 0.8571\n",
            "Epoch 35/50\n",
            "71/71 [==============================] - 16s 220ms/step - loss: 0.1131 - accuracy: 0.9613 - val_loss: 0.5242 - val_accuracy: 0.8571\n",
            "Epoch 36/50\n",
            "71/71 [==============================] - 15s 216ms/step - loss: 0.0928 - accuracy: 0.9653 - val_loss: 0.3421 - val_accuracy: 0.9018\n",
            "Epoch 37/50\n",
            "71/71 [==============================] - 15s 218ms/step - loss: 0.1026 - accuracy: 0.9626 - val_loss: 0.4720 - val_accuracy: 0.8750\n",
            "Epoch 38/50\n",
            "71/71 [==============================] - 15s 214ms/step - loss: 0.0821 - accuracy: 0.9727 - val_loss: 0.5895 - val_accuracy: 0.8750\n",
            "Epoch 39/50\n",
            "71/71 [==============================] - 15s 212ms/step - loss: 0.0960 - accuracy: 0.9653 - val_loss: 0.4187 - val_accuracy: 0.8929\n",
            "Epoch 40/50\n",
            "71/71 [==============================] - 15s 211ms/step - loss: 0.1024 - accuracy: 0.9617 - val_loss: 0.4078 - val_accuracy: 0.8571\n",
            "Epoch 41/50\n",
            "71/71 [==============================] - 15s 215ms/step - loss: 0.0873 - accuracy: 0.9710 - val_loss: 0.5398 - val_accuracy: 0.8125\n",
            "Epoch 42/50\n",
            "71/71 [==============================] - 15s 217ms/step - loss: 0.0863 - accuracy: 0.9683 - val_loss: 0.4080 - val_accuracy: 0.8750\n",
            "Epoch 43/50\n",
            "71/71 [==============================] - 15s 214ms/step - loss: 0.0812 - accuracy: 0.9724 - val_loss: 0.3626 - val_accuracy: 0.9196\n",
            "Epoch 44/50\n",
            "71/71 [==============================] - 15s 216ms/step - loss: 0.0830 - accuracy: 0.9718 - val_loss: 0.3952 - val_accuracy: 0.8839\n",
            "Epoch 45/50\n",
            "71/71 [==============================] - 15s 215ms/step - loss: 0.0761 - accuracy: 0.9727 - val_loss: 0.6943 - val_accuracy: 0.8482\n",
            "Epoch 46/50\n",
            "71/71 [==============================] - 15s 215ms/step - loss: 0.0702 - accuracy: 0.9736 - val_loss: 0.4961 - val_accuracy: 0.8929\n",
            "Epoch 47/50\n",
            "71/71 [==============================] - 15s 215ms/step - loss: 0.0643 - accuracy: 0.9769 - val_loss: 0.6372 - val_accuracy: 0.8482\n",
            "Epoch 48/50\n",
            "71/71 [==============================] - 15s 216ms/step - loss: 0.0795 - accuracy: 0.9754 - val_loss: 0.7007 - val_accuracy: 0.8839\n",
            "Epoch 49/50\n",
            "71/71 [==============================] - 15s 218ms/step - loss: 0.0668 - accuracy: 0.9789 - val_loss: 0.3860 - val_accuracy: 0.9196\n",
            "Epoch 50/50\n",
            "71/71 [==============================] - 16s 221ms/step - loss: 0.0642 - accuracy: 0.9798 - val_loss: 0.7490 - val_accuracy: 0.8571\n"
          ],
          "name": "stdout"
        }
      ]
    },
    {
      "cell_type": "code",
      "metadata": {
        "colab": {
          "base_uri": "https://localhost:8080/",
          "height": 499
        },
        "id": "uK2b3qOVUSct",
        "outputId": "d594615d-1a7d-47ec-8d87-07acd25163b6"
      },
      "source": [
        "acc = history.history['accuracy']\n",
        "val_acc = history.history['val_accuracy']\n",
        "\n",
        "loss = history.history['loss']\n",
        "val_loss = history.history['val_loss']\n",
        "\n",
        "plt.figure(figsize=(8, 8))\n",
        "plt.subplot(2, 1, 1)\n",
        "plt.plot(acc, label='Training Accuracy')\n",
        "plt.plot(val_acc, label='Validation Accuracy')\n",
        "plt.legend(loc='lower right')\n",
        "plt.ylabel('Accuracy')\n",
        "plt.ylim([min(plt.ylim()),1])\n",
        "plt.title('Training and Validation Accuracy')\n",
        "\n",
        "plt.subplot(2, 1, 2)\n",
        "plt.plot(loss, label='Training Loss')\n",
        "plt.plot(val_loss, label='Validation Loss')\n",
        "plt.legend(loc='upper right')\n",
        "plt.ylabel('Cross Entropy')\n",
        "plt.ylim([0,max(plt.ylim())])\n",
        "plt.title('Training and Validation Loss')\n",
        "plt.show()"
      ],
      "execution_count": null,
      "outputs": [
        {
          "output_type": "display_data",
          "data": {
            "image/png": "[encoded data removed]",
            "text/plain": [
              "<Figure size 576x576 with 2 Axes>"
            ]
          },
          "metadata": {
            "tags": [],
            "needs_background": "light"
          }
        }
      ]
    }
  ]
}